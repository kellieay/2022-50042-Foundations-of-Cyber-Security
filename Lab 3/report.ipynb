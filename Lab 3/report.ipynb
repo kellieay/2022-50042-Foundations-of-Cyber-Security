{
 "cells": [
  {
   "cell_type": "markdown",
   "metadata": {},
   "source": [
    "# FCS Lab 3 - MD5, Rainbow Tables"
   ]
  },
  {
   "cell_type": "markdown",
   "metadata": {},
   "source": [
    "* Name(s): Aw Yong Jia Min Kellie\n",
    "* Student ID(s): 1005466"
   ]
  },
  {
   "cell_type": "markdown",
   "metadata": {},
   "source": [
    "## Part I: Hashing Using MD5\n",
    "\n",
    "* How does the length of the hash correspond to the input string?"
   ]
  },
  {
   "cell_type": "markdown",
   "metadata": {},
   "source": [
    "For any input string, the length of the hash remains constant."
   ]
  },
  {
   "cell_type": "markdown",
   "metadata": {},
   "source": [
    "* Are there any visible correlations between the hash and the input string?"
   ]
  },
  {
   "cell_type": "markdown",
   "metadata": {},
   "source": [
    "There are no visible correlations between the hash and the input string."
   ]
  },
  {
   "cell_type": "markdown",
   "metadata": {},
   "source": [
    "* What are the issues related to the cryptographic weakness of MD5?"
   ]
  },
  {
   "cell_type": "markdown",
   "metadata": {},
   "source": [
    "It allows for message collisions since the attacker could just generate large number of hashed values and their corresponding plaintext either through brute force or rainbow tables, giving attackers the privilege to access sensitive data with illegitimate data that appears to be authentic."
   ]
  },
  {
   "cell_type": "markdown",
   "metadata": {},
   "source": [
    "## Part II: Break Hashes with Brute Force\n",
    "\n",
    "* How much time did you take in total?"
   ]
  },
  {
   "cell_type": "markdown",
   "metadata": {},
   "source": [
    "Total time taken: 180.527262455 seconds"
   ]
  },
  {
   "cell_type": "markdown",
   "metadata": {},
   "source": [
    "* How much time does it take to crack each string, on average?"
   ]
  },
  {
   "cell_type": "markdown",
   "metadata": {},
   "source": [
    "From the total time taken above, since there are 15 strings to be cracked, \n",
    "the time taken to crack each string on average = 138.963035929/15 = 9.26420239527\n",
    "\n",
    "Therefore, the average time taken to crack each string = 9.26 seconds (2dp)"
   ]
  },
  {
   "cell_type": "markdown",
   "metadata": {},
   "source": [
    "* Is it possible to amortize (gradually write off the initial cost of) the brute forcing attempts?"
   ]
  },
  {
   "cell_type": "markdown",
   "metadata": {},
   "source": [
    "Yes, it is possible.\n",
    "One can store the results obtained from the brute force attempts in a database and access the required data from that database when needed next time."
   ]
  },
  {
   "cell_type": "markdown",
   "metadata": {},
   "source": [
    "## Part III: Creating Rainbow Tables\n",
    "\n",
    "* Is rcrack faster/slower than your script ex2.py? By how much faster/slower is it?"
   ]
  },
  {
   "cell_type": "markdown",
   "metadata": {},
   "source": [
    "Yes, rcrack is faster than my script, ex2.py. \n",
    "\n",
    "Total time taken for rcrack: 22.52s\n",
    "\n",
    "Hence, average time taken to crack each string = 22.52/15 = 1.50 seconds (2dp)\n",
    "\n",
    "Comparing the result above to that of the average time taken to crack each string using the script, ex2.py:\n",
    "Difference in time taken = 9.26 - 1.50 = 7.76 seconds\n",
    "\n",
    "Thus, rcrack is 7.76 seconds faster than my script, ex2.py."
   ]
  },
  {
   "cell_type": "markdown",
   "metadata": {},
   "source": [
    "* Do you observe any advantages or disadvantages of using rainbowcrack?"
   ]
  },
  {
   "cell_type": "markdown",
   "metadata": {},
   "source": [
    "Advantages of using rainbowcrack:\n",
    "    - Faster in cracking hashes as compared to brute force attempts\n",
    "\n",
    "Disadvantages of using rainbowcrack:\n",
    "    - It requires a rainbow table to work on which in turn requires storage space.\n",
    "    - It depends on the rainbow table created hence, this does not guarantee that the attacker is able to find the \n",
    "      required plaintext.\n",
    "    "
   ]
  },
  {
   "cell_type": "markdown",
   "metadata": {},
   "source": [
    "## Part IV: Salt\n",
    "\n",
    "* What is the observed differences between your ease of cracking the salted vs the unsalted plaintexts?"
   ]
  },
  {
   "cell_type": "markdown",
   "metadata": {},
   "source": [
    "Cracking the unsalted plaintexts only required one try with the given parameters whereas cracking the salted plaintexts required more than one try in order to be able to crack all the salted values.\n",
    "Cracking the salted values also required me to try out different parameters as compared to that of the unsalted values."
   ]
  },
  {
   "cell_type": "markdown",
   "metadata": {},
   "source": [
    "* Report the difference in time observed to crack."
   ]
  },
  {
   "cell_type": "markdown",
   "metadata": {},
   "source": [
    "Total time taken to crack unsalted plaintexts: 22.52s \n",
    "\n",
    "Total time taken to crack salted plaintexts: 39.49 s\n",
    "\n",
    "Difference in time taken to crack = 39.49 - 22.52 = 16.97s"
   ]
  },
  {
   "cell_type": "markdown",
   "metadata": {},
   "source": [
    "* Explain any differences between salted and non salted rcrack strategies."
   ]
  },
  {
   "cell_type": "markdown",
   "metadata": {},
   "source": [
    "For unsalted rcrack strategies, lesser chain length and chain number parameters could be given while for salted rcrack strategies, more chain length and chain number parameters could be given.\n",
    "\n",
    "Salted rcrack strategies also require more tries in determining the appropriate parameters in order to crack all the plaintexts as compared to that of unsalted rcrack strategies."
   ]
  },
  {
   "cell_type": "markdown",
   "metadata": {},
   "source": [
    "## Part V: Hash Breaking Competition\n",
    "\n",
    "* What is the approach you used to crack the hashes"
   ]
  },
  {
   "cell_type": "markdown",
   "metadata": {},
   "source": [
    "I used the rainbow table method to crack the hashes"
   ]
  },
  {
   "cell_type": "markdown",
   "metadata": {},
   "source": [
    "* How you decided or designed your approach"
   ]
  },
  {
   "cell_type": "markdown",
   "metadata": {},
   "source": [
    "Initially, I wanted to find the range of possible plaintexts by putting the minimum length as 1 and maximum length as 10 when using the rainbow table. However, in doing so, I was not able to crack many of the hashes.\n",
    "\n",
    "I then decided to try cracking for each length of the plaintexts."
   ]
  },
  {
   "cell_type": "markdown",
   "metadata": {},
   "source": [
    "* Main challenges and limitations of your approach"
   ]
  },
  {
   "cell_type": "markdown",
   "metadata": {},
   "source": [
    "It was very time consuming to find the parameters that gave me results. I had to try various combinations of the parameters in order to crack some of the hashes. Furthermore, in using large numbers of chain length to generate more possible plaintexts, it takes up a lot of time and sometimes proves not possible for my computer to run.\n"
   ]
  },
  {
   "cell_type": "markdown",
   "metadata": {},
   "source": [
    "* How many hashes did you manage to crack?"
   ]
  },
  {
   "cell_type": "markdown",
   "metadata": {},
   "source": [
    "25"
   ]
  },
  {
   "cell_type": "code",
   "execution_count": null,
   "metadata": {},
   "outputs": [],
   "source": []
  }
 ],
 "metadata": {
  "kernelspec": {
   "display_name": "Python 3",
   "language": "python",
   "name": "python3"
  },
  "language_info": {
   "codemirror_mode": {
    "name": "ipython",
    "version": 3
   },
   "file_extension": ".py",
   "mimetype": "text/x-python",
   "name": "python",
   "nbconvert_exporter": "python",
   "pygments_lexer": "ipython3",
   "version": "3.8.3"
  }
 },
 "nbformat": 4,
 "nbformat_minor": 5
}
